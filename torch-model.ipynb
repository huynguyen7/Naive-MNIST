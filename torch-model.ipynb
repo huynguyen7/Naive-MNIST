{
 "cells": [
  {
   "cell_type": "code",
   "execution_count": 1,
   "metadata": {},
   "outputs": [],
   "source": [
    "from mnist_loader import load_mnist_data\n",
    "from tqdm import tqdm\n",
    "import matplotlib.pyplot as plt\n",
    "import torch\n",
    "import torch.nn as nn\n",
    "import numpy as np\n",
    "import warnings"
   ]
  },
  {
   "cell_type": "code",
   "execution_count": 2,
   "metadata": {},
   "outputs": [],
   "source": [
    "# Set log level UserWarning 'off'\n",
    "warnings.filterwarnings(\"ignore\", category=UserWarning)"
   ]
  },
  {
   "cell_type": "code",
   "execution_count": 3,
   "metadata": {},
   "outputs": [],
   "source": [
    "# Device configuration for GPU or CPU\n",
    "device = torch.device('cuda' if torch.cuda.is_available() else 'cpu')"
   ]
  },
  {
   "cell_type": "code",
   "execution_count": 4,
   "metadata": {},
   "outputs": [],
   "source": [
    "# Load dataset (all in numpy ndarray type)\n",
    "X_train, Y_train, X_test, Y_test = load_mnist_data(download=False)  # Set to True if data is not downloaded."
   ]
  },
  {
   "cell_type": "code",
   "execution_count": 5,
   "metadata": {},
   "outputs": [],
   "source": [
    "# Transform to torch tensors\n",
    "X_train = torch.from_numpy(X_train)\n",
    "Y_train = torch.from_numpy(Y_train)\n",
    "X_test = torch.from_numpy(X_test)\n",
    "Y_test = torch.from_numpy(Y_test)"
   ]
  },
  {
   "cell_type": "code",
   "execution_count": 6,
   "metadata": {},
   "outputs": [],
   "source": [
    "class MyNeuralNet(nn.Module):\n",
    "    def __init__(self, sizes):  # sizes = list of number of neurons in each layer\n",
    "        super(MyNeuralNet, self).__init__()\n",
    "        self.sizes = sizes\n",
    "        self.num_layers = len(sizes)\n",
    "        self.relu = nn.ReLU()\n",
    "        self.sm = nn.LogSoftmax(dim=1)\n",
    "        \n",
    "        # List of weight matrix for each layer\n",
    "        self.nn_layers = nn.ModuleList([nn.Linear(x, y, bias=False) for x, y in zip(sizes[:-1], sizes[1:])])\n",
    "        \n",
    "    def forward(self, a1):\n",
    "        # Default init\n",
    "        z = self.nn_layers[0](a1)\n",
    "        a = a1\n",
    "        \n",
    "        # Hidden layer activations\n",
    "        for i in range(0, self.num_layers - 2):\n",
    "            z = self.nn_layers[i](a)\n",
    "            a = self.relu(z)  # Apply ReLU\n",
    "        \n",
    "        # Last layer activation\n",
    "        z = self.nn_layers[self.num_layers - 2](a)\n",
    "        a = self.sm(z)  # Apply log soft max\n",
    "        return a"
   ]
  },
  {
   "cell_type": "code",
   "execution_count": 7,
   "metadata": {},
   "outputs": [],
   "source": [
    "# Train model\n",
    "def train_model(model=None, optimizer=None, criterion=None, batch_size=100, num_epochs=10, log=False):\n",
    "    current_batch = 0\n",
    "    total_training_examples = X_train.shape[0]\n",
    "    pbar = tqdm(total=num_epochs)  # Progress bar\n",
    "    \n",
    "    for epoch in range(num_epochs):\n",
    "        # Pick random number of training examples = batch_size\n",
    "        rand_samp = np.random.randint(0, X_train.shape[0], size=batch_size)\n",
    "        batch_images = torch.tensor(X_train[rand_samp].reshape(-1, 28*28)).float().to(device=device)\n",
    "        batch_labels = torch.tensor(Y_train[rand_samp]).long().to(device=device)\n",
    "\n",
    "        # forward prop\n",
    "        outputs = model(batch_images)  # Get activations from last layer\n",
    "        loss = criterion(outputs, batch_labels)  # Calculate delta from output\n",
    "\n",
    "        # backward prop\n",
    "        optim.zero_grad()\n",
    "        loss.backward()\n",
    "        optim.step()\n",
    "        \n",
    "        pbar.update(1)\n",
    "        if log:\n",
    "            current_batch += 100\n",
    "            print(f'epoch {epoch+1}/{num_epochs}, loss = {loss.item():.4f}')\n",
    "\n",
    "    pbar.close()\n",
    "    print(f'FINAL_LOSS = {loss.item():.4f}')\n",
    "    return model"
   ]
  },
  {
   "cell_type": "code",
   "execution_count": 8,
   "metadata": {},
   "outputs": [],
   "source": [
    "# Test model\n",
    "def test_model(model):\n",
    "    with torch.no_grad():\n",
    "        n_correct = 0\n",
    "        n_sample = Y_test.shape[0]\n",
    "\n",
    "    pbar = tqdm(total=len(X_test))\n",
    "    for image, label in zip(X_test, Y_test):\n",
    "        image = image.reshape(-1,28*28).float().to(device)\n",
    "        label = label.long().to(device)\n",
    "        output = model(image)\n",
    "        _, prediction = torch.max(output,1)\n",
    "        n_correct += 1 if (prediction[0] == label) else 0\n",
    "        pbar.update(1)\n",
    "\n",
    "    pbar.close()\n",
    "    print(f'Num correct predictions: {n_correct}, total predictions: {n_sample}')\n",
    "    acc = 100 * n_correct / n_sample\n",
    "    print(f'Accuracy: {acc}')"
   ]
  },
  {
   "cell_type": "code",
   "execution_count": 23,
   "metadata": {},
   "outputs": [],
   "source": [
    "# Parameters\n",
    "batch_size = 500\n",
    "num_epochs = 10000\n",
    "learning_rate = 0.0005\n",
    "\n",
    "# Neural Network inits\n",
    "sizes = [784, 10, 10]\n",
    "model = MyNeuralNet(sizes).to(device=device)\n",
    "criterion = nn.CrossEntropyLoss()\n",
    "optim = torch.optim.Adam(model.parameters(), lr=learning_rate)"
   ]
  },
  {
   "cell_type": "code",
   "execution_count": 24,
   "metadata": {},
   "outputs": [
    {
     "name": "stderr",
     "output_type": "stream",
     "text": [
      "100%|██████████| 10000/10000 [00:34<00:00, 292.37it/s]"
     ]
    },
    {
     "name": "stdout",
     "output_type": "stream",
     "text": [
      "FINAL_LOSS = 0.2571\n"
     ]
    },
    {
     "name": "stderr",
     "output_type": "stream",
     "text": [
      "\n"
     ]
    }
   ],
   "source": [
    "model = train_model(model=model,\n",
    "           optimizer=optim,\n",
    "           criterion=criterion,\n",
    "           batch_size=batch_size,\n",
    "           num_epochs=num_epochs,\n",
    "           log=False)"
   ]
  },
  {
   "cell_type": "code",
   "execution_count": 25,
   "metadata": {},
   "outputs": [
    {
     "name": "stderr",
     "output_type": "stream",
     "text": [
      "100%|██████████| 10000/10000 [00:04<00:00, 2169.79it/s]"
     ]
    },
    {
     "name": "stdout",
     "output_type": "stream",
     "text": [
      "Num correct predictions: 9201, total predictions: 10000\n",
      "Accuracy: 92.01\n"
     ]
    },
    {
     "name": "stderr",
     "output_type": "stream",
     "text": [
      "\n"
     ]
    }
   ],
   "source": [
    "test_model(model)"
   ]
  }
 ],
 "metadata": {
  "kernelspec": {
   "display_name": "Python 3",
   "language": "python",
   "name": "python3"
  },
  "language_info": {
   "codemirror_mode": {
    "name": "ipython",
    "version": 3
   },
   "file_extension": ".py",
   "mimetype": "text/x-python",
   "name": "python",
   "nbconvert_exporter": "python",
   "pygments_lexer": "ipython3",
   "version": "3.9.1"
  }
 },
 "nbformat": 4,
 "nbformat_minor": 4
}
